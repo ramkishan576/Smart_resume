{
 "cells": [
  {
   "cell_type": "code",
   "execution_count": 1,
   "metadata": {},
   "outputs": [
    {
     "name": "stderr",
     "output_type": "stream",
     "text": [
      "[nltk_data] Downloading package stopwords to /Users/ppp/nltk_data...\n",
      "[nltk_data]   Package stopwords is already up-to-date!\n",
      "[nltk_data] Downloading package wordnet to /Users/ppp/nltk_data...\n",
      "[nltk_data]   Package wordnet is already up-to-date!\n"
     ]
    },
    {
     "data": {
      "text/plain": [
       "True"
      ]
     },
     "execution_count": 1,
     "metadata": {},
     "output_type": "execute_result"
    }
   ],
   "source": [
    "# Basic Libraries\n",
    "import pandas as pd\n",
    "import numpy as np\n",
    "import matplotlib.pyplot as plt\n",
    "import seaborn as sns\n",
    "\n",
    "# Machine Learning Libraries\n",
    "from sklearn.model_selection import train_test_split\n",
    "from sklearn.preprocessing import StandardScaler, LabelEncoder\n",
    "from sklearn.ensemble import RandomForestClassifier\n",
    "from sklearn.metrics import accuracy_score, classification_report, confusion_matrix\n",
    "\n",
    "# NLP & Text Processing Libraries\n",
    "from sklearn.feature_extraction.text import TfidfVectorizer\n",
    "from sklearn.metrics.pairwise import cosine_similarity\n",
    "import nltk\n",
    "from nltk.corpus import stopwords\n",
    "from nltk.stem import WordNetLemmatizer\n",
    "\n",
    "# SSL issue fix (if needed)\n",
    "import ssl\n",
    "ssl._create_default_https_context = ssl._create_unverified_context\n",
    "\n",
    "# Download necessary NLTK resources\n",
    "nltk.download('stopwords')\n",
    "nltk.download('wordnet')\n"
   ]
  },
  {
   "cell_type": "code",
   "execution_count": 79,
   "metadata": {},
   "outputs": [
    {
     "name": "stdout",
     "output_type": "stream",
     "text": [
      "Collecting certifi\n",
      "  Using cached certifi-2025.1.31-py3-none-any.whl.metadata (2.5 kB)\n",
      "Using cached certifi-2025.1.31-py3-none-any.whl (166 kB)\n",
      "Installing collected packages: certifi\n",
      "  Attempting uninstall: certifi\n",
      "    Found existing installation: certifi 2025.1.31\n",
      "    Uninstalling certifi-2025.1.31:\n",
      "      Successfully uninstalled certifi-2025.1.31\n",
      "Successfully installed certifi-2025.1.31\n",
      "Note: you may need to restart the kernel to use updated packages.\n"
     ]
    }
   ],
   "source": [
    "%pip install --upgrade --force-reinstall certifi\n"
   ]
  },
  {
   "cell_type": "code",
   "execution_count": 2,
   "metadata": {},
   "outputs": [],
   "source": [
    "# import nltk\n",
    "# import ssl\n",
    "\n",
    "# try:\n",
    "#     _create_unverified_https_context = ssl._create_unverified_context\n",
    "# except AttributeError:\n",
    "#     pass\n",
    "# else:\n",
    "#     ssl._create_default_https_context = _create_unverified_https_context\n",
    "\n",
    "# nltk.download()"
   ]
  },
  {
   "cell_type": "code",
   "execution_count": 4,
   "metadata": {},
   "outputs": [
    {
     "name": "stdout",
     "output_type": "stream",
     "text": [
      "Dataset Shape: (9544, 35)\n",
      "\n",
      "First 5 Rows:\n",
      "   address                                   career_objective  \\\n",
      "0     NaN  Big data analytics working and database wareho...   \n",
      "1     NaN  Fresher looking to join as a data analyst and ...   \n",
      "2     NaN                                                NaN   \n",
      "3     NaN  To obtain a position in a fast-paced business ...   \n",
      "4     NaN  Professional accountant with an outstanding wo...   \n",
      "\n",
      "                                              skills  \\\n",
      "0  ['Big Data', 'Hadoop', 'Hive', 'Python', 'Mapr...   \n",
      "1  ['Data Analysis', 'Data Analytics', 'Business ...   \n",
      "2  ['Software Development', 'Machine Learning', '...   \n",
      "3  ['accounts payables', 'accounts receivables', ...   \n",
      "4  ['Analytical reasoning', 'Compliance testing k...   \n",
      "\n",
      "                        educational_institution_name  \\\n",
      "0  ['The Amity School of Engineering & Technology...   \n",
      "1  ['Delhi University - Hansraj College', 'Delhi ...   \n",
      "2    ['Birla Institute of Technology (BIT), Ranchi']   \n",
      "3  ['Martinez Adult Education, Business Training ...   \n",
      "4                          ['Kent State University']   \n",
      "\n",
      "                                        degree_names     passing_years  \\\n",
      "0                                         ['B.Tech']          ['2019']   \n",
      "1    ['B.Sc (Maths)', 'M.Sc (Science) (Statistics)']  ['2015', '2018']   \n",
      "2                                         ['B.Tech']          ['2018']   \n",
      "3  ['Computer Applications Specialist Certificate...          ['2008']   \n",
      "4            ['Bachelor of Business Administration']            [None]   \n",
      "\n",
      "  educational_results    result_types             major_field_of_studies  \\\n",
      "0             ['N/A']          [None]                    ['Electronics']   \n",
      "1      ['N/A', 'N/A']  ['N/A', 'N/A']      ['Mathematics', 'Statistics']   \n",
      "2             ['N/A']         ['N/A']  ['Electronics/Telecommunication']   \n",
      "3              [None]          [None]          ['Computer Applications']   \n",
      "4            ['3.84']          [None]                     ['Accounting']   \n",
      "\n",
      "                          professional_company_names  ... online_links  \\\n",
      "0                                      ['Coca-COla']  ...          NaN   \n",
      "1                                ['BIB Consultancy']  ...          NaN   \n",
      "2                              ['Axis Bank Limited']  ...          NaN   \n",
      "3  ['Company Name ï¼ City , State', 'Company Name...  ...          NaN   \n",
      "4  ['Company Name', 'Company Name', 'Company Name...  ...       [None]   \n",
      "\n",
      "  issue_dates           expiry_dates  \\\n",
      "0         NaN                    NaN   \n",
      "1         NaN                    NaN   \n",
      "2         NaN                    NaN   \n",
      "3         NaN                    NaN   \n",
      "4      [None]  ['February 15, 2021']   \n",
      "\n",
      "                                  ﻿job_position_name  \\\n",
      "0                           Senior Software Engineer   \n",
      "1                     Machine Learning (ML) Engineer   \n",
      "2  Executive/ Senior Executive- Trade Marketing, ...   \n",
      "3                     Business Development Executive   \n",
      "4                                Senior iOS Engineer   \n",
      "\n",
      "                            educationaL_requirements experiencere_requirement  \\\n",
      "0  B.Sc in Computer Science & Engineering from a ...          At least 1 year   \n",
      "1  M.Sc in Computer Science & Engineering or in a...       At least 5 year(s)   \n",
      "2            Master of Business Administration (MBA)         At least 3 years   \n",
      "3                                    Bachelor/Honors             1 to 3 years   \n",
      "4      Bachelor of Science (BSc) in Computer Science         At least 4 years   \n",
      "\n",
      "      age_requirement                                 responsibilities.1  \\\n",
      "0                 NaN  Technical Support\\nTroubleshooting\\nCollaborat...   \n",
      "1                 NaN  Machine Learning Leadership\\nCross-Functional ...   \n",
      "2                 NaN  Trade Marketing Executive\\nBrand Visibility, S...   \n",
      "3  Age 22 to 30 years  Apparel Sourcing\\nQuality Garment Sourcing\\nRe...   \n",
      "4                 NaN  iOS Lifecycle\\nRequirement Analysis\\nNative Fr...   \n",
      "\n",
      "                                     skills_required matched_score  \n",
      "0                                                NaN      0.850000  \n",
      "1                                                NaN      0.750000  \n",
      "2  Brand Promotion\\nCampaign Management\\nField Su...      0.416667  \n",
      "3  Fast typing skill\\nIELTSInternet browsing & on...      0.760000  \n",
      "4  iOS\\niOS App Developer\\niOS Application Develo...      0.650000  \n",
      "\n",
      "[5 rows x 35 columns]\n",
      "\n",
      "Column Names:\n",
      " Index(['address', 'career_objective', 'skills', 'educational_institution_name',\n",
      "       'degree_names', 'passing_years', 'educational_results', 'result_types',\n",
      "       'major_field_of_studies', 'professional_company_names', 'company_urls',\n",
      "       'start_dates', 'end_dates', 'related_skils_in_job', 'positions',\n",
      "       'locations', 'responsibilities', 'extra_curricular_activity_types',\n",
      "       'extra_curricular_organization_names',\n",
      "       'extra_curricular_organization_links', 'role_positions', 'languages',\n",
      "       'proficiency_levels', 'certification_providers', 'certification_skills',\n",
      "       'online_links', 'issue_dates', 'expiry_dates', '﻿job_position_name',\n",
      "       'educationaL_requirements', 'experiencere_requirement',\n",
      "       'age_requirement', 'responsibilities.1', 'skills_required',\n",
      "       'matched_score'],\n",
      "      dtype='object')\n",
      "\n",
      "Missing Values in Dataset:\n",
      " address                                8760\n",
      "career_objective                       4804\n",
      "skills                                   56\n",
      "educational_institution_name             84\n",
      "degree_names                             84\n",
      "passing_years                            84\n",
      "educational_results                      84\n",
      "result_types                             84\n",
      "major_field_of_studies                   84\n",
      "professional_company_names               84\n",
      "company_urls                             84\n",
      "start_dates                              84\n",
      "end_dates                                84\n",
      "related_skils_in_job                     84\n",
      "positions                                84\n",
      "locations                                84\n",
      "responsibilities                          0\n",
      "extra_curricular_activity_types        6118\n",
      "extra_curricular_organization_names    6118\n",
      "extra_curricular_organization_links    6118\n",
      "role_positions                         6118\n",
      "languages                              8844\n",
      "proficiency_levels                     8844\n",
      "certification_providers                7536\n",
      "certification_skills                   7536\n",
      "online_links                           7536\n",
      "issue_dates                            7536\n",
      "expiry_dates                           7536\n",
      "﻿job_position_name                        0\n",
      "educationaL_requirements                  0\n",
      "experiencere_requirement               1364\n",
      "age_requirement                        4087\n",
      "responsibilities.1                        0\n",
      "skills_required                        1701\n",
      "matched_score                             0\n",
      "dtype: int64\n"
     ]
    }
   ],
   "source": [
    "# Load dataset\n",
    "df = pd.read_csv(\"resume_data.csv\")\n",
    "\n",
    "# Data ka overview dekhna\n",
    "print(\"Dataset Shape:\", df.shape)  # Rows, Columns\n",
    "print(\"\\nFirst 5 Rows:\\n\", df.head())  # Pehli 5 rows\n",
    "print(\"\\nColumn Names:\\n\", df.columns)  # Available column names\n",
    "\n",
    "# Missing values check karna\n",
    "print(\"\\nMissing Values in Dataset:\\n\", df.isnull().sum())\n"
   ]
  },
  {
   "cell_type": "code",
   "execution_count": 6,
   "metadata": {},
   "outputs": [
    {
     "name": "stdout",
     "output_type": "stream",
     "text": [
      "Index(['career_objective', 'skills', 'educational_institution_name',\n",
      "       'degree_names', 'passing_years', 'educational_results', 'result_types',\n",
      "       'major_field_of_studies', 'professional_company_names', 'company_urls',\n",
      "       'start_dates', 'end_dates', 'related_skils_in_job', 'positions',\n",
      "       'locations', 'responsibilities', 'extra_curricular_activity_types',\n",
      "       'extra_curricular_organization_names',\n",
      "       'extra_curricular_organization_links', 'role_positions', 'languages',\n",
      "       'proficiency_levels', 'certification_providers', 'certification_skills',\n",
      "       'online_links', 'issue_dates', 'expiry_dates', '﻿job_position_name',\n",
      "       'educationaL_requirements', 'experiencere_requirement',\n",
      "       'age_requirement', 'responsibilities.1', 'skills_required',\n",
      "       'matched_score'],\n",
      "      dtype='object')\n"
     ]
    }
   ],
   "source": [
    "print(df.columns)  # Ye sabhi column names print karega\n"
   ]
  },
  {
   "cell_type": "code",
   "execution_count": 7,
   "metadata": {},
   "outputs": [
    {
     "name": "stdout",
     "output_type": "stream",
     "text": [
      "\n",
      "Missing Values after Cleaning:\n",
      " career_objective                          0\n",
      "skills                                    0\n",
      "educational_institution_name              0\n",
      "degree_names                              0\n",
      "passing_years                            84\n",
      "educational_results                      84\n",
      "result_types                             84\n",
      "major_field_of_studies                   84\n",
      "professional_company_names               84\n",
      "company_urls                             84\n",
      "start_dates                              84\n",
      "end_dates                                84\n",
      "related_skils_in_job                     84\n",
      "positions                                84\n",
      "locations                                84\n",
      "responsibilities                          0\n",
      "extra_curricular_activity_types        6118\n",
      "extra_curricular_organization_names    6118\n",
      "extra_curricular_organization_links    6118\n",
      "role_positions                         6118\n",
      "languages                              8844\n",
      "proficiency_levels                     8844\n",
      "certification_providers                7536\n",
      "certification_skills                   7536\n",
      "online_links                           7536\n",
      "issue_dates                            7536\n",
      "expiry_dates                           7536\n",
      "﻿job_position_name                        0\n",
      "educationaL_requirements                  0\n",
      "experiencere_requirement               1364\n",
      "age_requirement                        4087\n",
      "responsibilities.1                        0\n",
      "skills_required                        1701\n",
      "matched_score                             0\n",
      "dtype: int64\n"
     ]
    }
   ],
   "source": [
    "# Text columns jisme missing values ko 'Unknown' se replace karna hai\n",
    "text_columns = ['career_objective', 'skills', 'educational_institution_name', 'degree_names']\n",
    "\n",
    "# Har text column me missing values ko 'Unknown' se replace karna\n",
    "for col in text_columns:\n",
    "    df[col] = df[col].fillna('Unknown')\n",
    "\n",
    "# Numerical columns ke missing values ko mean se fill karna\n",
    "num_columns = df.select_dtypes(include=['number']).columns  # Sirf numerical columns select karna\n",
    "for col in num_columns:\n",
    "    df[col] = df[col].fillna(df[col].mean())\n",
    "\n",
    "# Missing values check karna dubara\n",
    "print(\"\\nMissing Values after Cleaning:\\n\", df.isnull().sum())\n"
   ]
  },
  {
   "cell_type": "code",
   "execution_count": 11,
   "metadata": {},
   "outputs": [
    {
     "name": "stdout",
     "output_type": "stream",
     "text": [
      "No valid columns to drop.\n",
      "\n",
      "Missing Values after Cleaning:\n",
      " career_objective                   0\n",
      "skills                             0\n",
      "educational_institution_name       0\n",
      "degree_names                       0\n",
      "passing_years                      0\n",
      "educational_results                0\n",
      "result_types                       0\n",
      "major_field_of_studies             0\n",
      "professional_company_names         0\n",
      "company_urls                       0\n",
      "start_dates                        0\n",
      "end_dates                          0\n",
      "related_skils_in_job               0\n",
      "positions                          0\n",
      "locations                          0\n",
      "responsibilities                   0\n",
      "online_links                    7536\n",
      "issue_dates                     7536\n",
      "expiry_dates                    7536\n",
      "﻿job_position_name                 0\n",
      "educationaL_requirements           0\n",
      "experiencere_requirement        1364\n",
      "age_requirement                 4087\n",
      "responsibilities.1                 0\n",
      "skills_required                    0\n",
      "matched_score                      0\n",
      "dtype: int64\n"
     ]
    }
   ],
   "source": [
    "# Pehle dataframe ke columns check karo\n",
    "existing_columns = df.columns\n",
    "\n",
    "# Sirf wahi columns drop karo jo dataframe me maujood hain\n",
    "columns_to_drop = ['extra_curricular_activity_types', 'extra_curricular_organization_names', \n",
    "                   'extra_curricular_organization_links', 'role_positions', 'languages', \n",
    "                   'proficiency_levels', 'certification_providers', 'certification_skills']\n",
    "\n",
    "# Valid columns ko filter karna\n",
    "valid_columns_to_drop = [col for col in columns_to_drop if col in existing_columns]\n",
    "\n",
    "# Agar valid columns hain to hi drop karo\n",
    "if valid_columns_to_drop:\n",
    "    df.drop(columns=valid_columns_to_drop, inplace=True)\n",
    "else:\n",
    "    print(\"No valid columns to drop.\")\n",
    "\n",
    "# Remaining text columns me missing values ko \"Unknown\" se fill karna\n",
    "text_columns = ['passing_years', 'educational_results', 'result_types', 'major_field_of_studies', \n",
    "                'professional_company_names', 'company_urls', 'start_dates', 'end_dates', \n",
    "                'related_skils_in_job', 'positions', 'locations', 'skills_required']\n",
    "\n",
    "# Valid text columns ko filter karna\n",
    "valid_text_columns = [col for col in text_columns if col in existing_columns]\n",
    "\n",
    "for col in valid_text_columns:\n",
    "    df[col] = df[col].fillna('Unknown')\n",
    "\n",
    "# Numerical columns ke missing values ko median se fill karna\n",
    "num_columns = df.select_dtypes(include=['number']).columns\n",
    "for col in num_columns:\n",
    "    df[col] = df[col].fillna(df[col].median())\n",
    "\n",
    "# Missing values check karna dubara\n",
    "print(\"\\nMissing Values after Cleaning:\\n\", df.isnull().sum())\n"
   ]
  },
  {
   "cell_type": "code",
   "execution_count": 13,
   "metadata": {},
   "outputs": [
    {
     "name": "stdout",
     "output_type": "stream",
     "text": [
      "\n",
      "Missing Values after Final Cleaning:\n",
      " career_objective                   0\n",
      "skills                             0\n",
      "educational_institution_name       0\n",
      "degree_names                       0\n",
      "passing_years                      0\n",
      "educational_results                0\n",
      "result_types                       0\n",
      "major_field_of_studies             0\n",
      "professional_company_names         0\n",
      "company_urls                       0\n",
      "start_dates                        0\n",
      "end_dates                          0\n",
      "related_skils_in_job               0\n",
      "positions                          0\n",
      "locations                          0\n",
      "responsibilities                   0\n",
      "online_links                       0\n",
      "issue_dates                        0\n",
      "expiry_dates                       0\n",
      "﻿job_position_name                 0\n",
      "educationaL_requirements           0\n",
      "experiencere_requirement           0\n",
      "age_requirement                 4087\n",
      "responsibilities.1                 0\n",
      "skills_required                    0\n",
      "matched_score                      0\n",
      "dtype: int64\n"
     ]
    }
   ],
   "source": [
    "import re\n",
    "\n",
    "# Function to extract first number from text\n",
    "def extract_experience(text):\n",
    "    match = re.search(r'\\d+', str(text))  # Extract first number\n",
    "    return int(match.group()) if match else None  # Convert to integer\n",
    "\n",
    "# Convert 'experiencere_requirement' column\n",
    "if 'experiencere_requirement' in df.columns:\n",
    "    df['experiencere_requirement'] = df['experiencere_requirement'].apply(extract_experience)\n",
    "\n",
    "    # Missing values ko median se fill karna\n",
    "    df['experiencere_requirement'] = df['experiencere_requirement'].fillna(df['experiencere_requirement'].median())\n",
    "\n",
    "# Final missing values check karna\n",
    "print(\"\\nMissing Values after Final Cleaning:\\n\", df.isnull().sum())\n"
   ]
  },
  {
   "cell_type": "code",
   "execution_count": 14,
   "metadata": {},
   "outputs": [
    {
     "name": "stdout",
     "output_type": "stream",
     "text": [
      "\n",
      "Missing Values after Final Cleaning:\n",
      " career_objective                0\n",
      "skills                          0\n",
      "educational_institution_name    0\n",
      "degree_names                    0\n",
      "passing_years                   0\n",
      "educational_results             0\n",
      "result_types                    0\n",
      "major_field_of_studies          0\n",
      "professional_company_names      0\n",
      "company_urls                    0\n",
      "start_dates                     0\n",
      "end_dates                       0\n",
      "related_skils_in_job            0\n",
      "positions                       0\n",
      "locations                       0\n",
      "responsibilities                0\n",
      "online_links                    0\n",
      "issue_dates                     0\n",
      "expiry_dates                    0\n",
      "﻿job_position_name              0\n",
      "educationaL_requirements        0\n",
      "experiencere_requirement        0\n",
      "age_requirement                 0\n",
      "responsibilities.1              0\n",
      "skills_required                 0\n",
      "matched_score                   0\n",
      "dtype: int64\n"
     ]
    }
   ],
   "source": [
    "import re\n",
    "\n",
    "def extract_age(text):\n",
    "    match = re.search(r'\\d+', str(text))  # Extract first number\n",
    "    return int(match.group()) if match else None  # Convert to integer\n",
    "\n",
    "if 'age_requirement' in df.columns:\n",
    "    df['age_requirement'] = df['age_requirement'].apply(extract_age)\n",
    "    df['age_requirement'] = df['age_requirement'].fillna(df['age_requirement'].median())  # Fill with median\n",
    "\n",
    "print(\"\\nMissing Values after Final Cleaning:\\n\", df.isnull().sum())\n"
   ]
  },
  {
   "cell_type": "code",
   "execution_count": 15,
   "metadata": {},
   "outputs": [
    {
     "name": "stdout",
     "output_type": "stream",
     "text": [
      "  experiencere_requirement  experience_required_years  total_experience_years\n",
      "0          At least 1 year                          1                     4.0\n",
      "1         At least 5 years                          5                     5.4\n",
      "2             1 to 3 years                          1                     4.2\n",
      "3         At least 2 years                          2                     3.9\n"
     ]
    }
   ],
   "source": [
    "import pandas as pd\n",
    "import re\n",
    "from datetime import datetime\n",
    "\n",
    "# Sample DataFrame\n",
    "df = pd.DataFrame({\n",
    "    'experiencere_requirement': ['At least 1 year', 'At least 5 years', '1 to 3 years', 'At least 2 years'],\n",
    "    'start_dates': ['2019-06-01', '2015-03-15', '2018-07-10', '2020-01-20'],\n",
    "    'end_dates': ['2023-05-30', '2020-08-01', '2022-09-15', '2023-12-10']\n",
    "})\n",
    "\n",
    "# 1️⃣ Experience requirement ko numeric me convert karna\n",
    "def extract_experience(exp):\n",
    "    match = re.search(r'(\\d+)', str(exp))\n",
    "    return int(match.group(1)) if match else 0\n",
    "\n",
    "df['experience_required_years'] = df['experiencere_requirement'].apply(extract_experience)\n",
    "\n",
    "# 2️⃣ Start aur End Date se total experience nikalna\n",
    "def calculate_experience(start, end):\n",
    "    try:\n",
    "        start_date = datetime.strptime(start, \"%Y-%m-%d\")\n",
    "        end_date = datetime.strptime(end, \"%Y-%m-%d\")\n",
    "        return round((end_date - start_date).days / 365, 1)  # Years me convert\n",
    "    except:\n",
    "        return 0\n",
    "\n",
    "df['total_experience_years'] = df.apply(lambda row: calculate_experience(row['start_dates'], row['end_dates']), axis=1)\n",
    "\n",
    "print(df[['experiencere_requirement', 'experience_required_years', 'total_experience_years']])\n"
   ]
  },
  {
   "cell_type": "code",
   "execution_count": 17,
   "metadata": {},
   "outputs": [
    {
     "name": "stdout",
     "output_type": "stream",
     "text": [
      "                               skills           skills_required  \\\n",
      "0       Python, NLP, Machine Learning  Python, Machine Learning   \n",
      "1  Deep Learning, TensorFlow, PyTorch       TensorFlow, PyTorch   \n",
      "2        Java, Spring Boot, Hibernate           Java, Hibernate   \n",
      "\n",
      "   skill_match_score  \n",
      "0           0.848849  \n",
      "1           0.747602  \n",
      "2           0.707107  \n"
     ]
    }
   ],
   "source": [
    "from sklearn.feature_extraction.text import TfidfVectorizer\n",
    "from sklearn.metrics.pairwise import cosine_similarity\n",
    "import numpy as np\n",
    "import pandas as pd\n",
    "\n",
    "# Sample DataFrame\n",
    "df = pd.DataFrame({\n",
    "    'skills': ['Python, NLP, Machine Learning', 'Deep Learning, TensorFlow, PyTorch', 'Java, Spring Boot, Hibernate'],\n",
    "    'skills_required': ['Python, Machine Learning', 'TensorFlow, PyTorch', 'Java, Hibernate']\n",
    "})\n",
    "\n",
    "# TF-IDF Vectorization\n",
    "vectorizer = TfidfVectorizer()\n",
    "tfidf_skills = vectorizer.fit_transform(df['skills'])\n",
    "tfidf_required = vectorizer.transform(df['skills_required'])\n",
    "\n",
    "# Cosine Similarity Calculation\n",
    "cosine_sim = cosine_similarity(tfidf_skills, tfidf_required)\n",
    "\n",
    "# Similarity Score Assign\n",
    "df['skill_match_score'] = np.diag(cosine_sim)\n",
    "\n",
    "print(df[['skills', 'skills_required', 'skill_match_score']])\n"
   ]
  },
  {
   "cell_type": "code",
   "execution_count": 18,
   "metadata": {},
   "outputs": [
    {
     "name": "stdout",
     "output_type": "stream",
     "text": [
      "Empty DataFrame\n",
      "Columns: [skills, skills_required, skill_match_score]\n",
      "Index: []\n"
     ]
    }
   ],
   "source": [
    "df_filtered = df[df['skill_match_score'] >= 70]\n",
    "print(df_filtered)\n"
   ]
  },
  {
   "cell_type": "code",
   "execution_count": 20,
   "metadata": {},
   "outputs": [],
   "source": [
    "# df['skill_match_score'] = df['skill_match_score'] * 100\n"
   ]
  },
  {
   "cell_type": "code",
   "execution_count": 22,
   "metadata": {},
   "outputs": [
    {
     "name": "stdout",
     "output_type": "stream",
     "text": [
      "                               skills           skills_required  \\\n",
      "0       python, nlp, machine learning  python, machine learning   \n",
      "1  deep learning, tensorflow, pytorch       tensorflow, pytorch   \n",
      "2        java, spring boot, hibernate           java, hibernate   \n",
      "\n",
      "   skill_match_score  \n",
      "0          84.884949  \n",
      "1          74.760223  \n",
      "2          70.710678  \n"
     ]
    }
   ],
   "source": [
    "from sklearn.feature_extraction.text import TfidfVectorizer\n",
    "from sklearn.metrics.pairwise import cosine_similarity\n",
    "\n",
    "vectorizer = TfidfVectorizer()\n",
    "\n",
    "# Correct way: Fit on both columns separately\n",
    "tfidf_skills = vectorizer.fit_transform(df['skills'])\n",
    "tfidf_required = vectorizer.transform(df['skills_required'])\n",
    "\n",
    "# Compute Cosine Similarity\n",
    "cosine_sim = cosine_similarity(tfidf_skills, tfidf_required)\n",
    "\n",
    "# Assign similarity scores (Convert to percentage)\n",
    "df['skill_match_score'] = [cosine_sim[i][i] * 100 for i in range(len(df))]\n",
    "\n",
    "# Filter the DataFrame for scores >= 70\n",
    "df_filtered = df[df['skill_match_score'] >= 70]\n",
    "print(df_filtered)\n"
   ]
  },
  {
   "cell_type": "code",
   "execution_count": 23,
   "metadata": {},
   "outputs": [
    {
     "name": "stdout",
     "output_type": "stream",
     "text": [
      "                               skills           skills_required  \\\n",
      "0       python, nlp, machine learning  python, machine learning   \n",
      "1  deep learning, tensorflow, pytorch       tensorflow, pytorch   \n",
      "2        java, spring boot, hibernate           java, hibernate   \n",
      "\n",
      "   skill_match_score  \n",
      "0          84.884949  \n",
      "1          74.760223  \n",
      "2          70.710678  \n"
     ]
    }
   ],
   "source": [
    "df_filtered = df[df['skill_match_score'] >= 70]\n",
    "print(df_filtered)\n"
   ]
  },
  {
   "cell_type": "code",
   "execution_count": 24,
   "metadata": {},
   "outputs": [
    {
     "name": "stdout",
     "output_type": "stream",
     "text": [
      "                               skills           skills_required  \\\n",
      "0       python, nlp, machine learning  python, machine learning   \n",
      "1  deep learning, tensorflow, pytorch       tensorflow, pytorch   \n",
      "2        java, spring boot, hibernate           java, hibernate   \n",
      "\n",
      "   skill_match_score  \n",
      "0          84.884949  \n",
      "1          74.760223  \n",
      "2          70.710678  \n"
     ]
    }
   ],
   "source": [
    "df_sorted = df_filtered.sort_values(by='skill_match_score', ascending=False)\n",
    "print(df_sorted)\n"
   ]
  },
  {
   "cell_type": "code",
   "execution_count": 27,
   "metadata": {},
   "outputs": [
    {
     "name": "stdout",
     "output_type": "stream",
     "text": [
      "Index(['skills', 'skills_required', 'skill_match_score'], dtype='object')\n"
     ]
    }
   ],
   "source": [
    "print(df.columns)\n"
   ]
  },
  {
   "cell_type": "code",
   "execution_count": 29,
   "metadata": {},
   "outputs": [
    {
     "data": {
      "text/html": [
       "<div>\n",
       "<style scoped>\n",
       "    .dataframe tbody tr th:only-of-type {\n",
       "        vertical-align: middle;\n",
       "    }\n",
       "\n",
       "    .dataframe tbody tr th {\n",
       "        vertical-align: top;\n",
       "    }\n",
       "\n",
       "    .dataframe thead th {\n",
       "        text-align: right;\n",
       "    }\n",
       "</style>\n",
       "<table border=\"1\" class=\"dataframe\">\n",
       "  <thead>\n",
       "    <tr style=\"text-align: right;\">\n",
       "      <th></th>\n",
       "      <th>skills</th>\n",
       "      <th>skills_required</th>\n",
       "      <th>skill_match_score</th>\n",
       "      <th>total_experience_years</th>\n",
       "      <th>experience_required_years</th>\n",
       "    </tr>\n",
       "  </thead>\n",
       "  <tbody>\n",
       "    <tr>\n",
       "      <th>0</th>\n",
       "      <td>python, nlp, machine learning</td>\n",
       "      <td>python, machine learning</td>\n",
       "      <td>84.884949</td>\n",
       "      <td>1</td>\n",
       "      <td>1</td>\n",
       "    </tr>\n",
       "    <tr>\n",
       "      <th>1</th>\n",
       "      <td>deep learning, tensorflow, pytorch</td>\n",
       "      <td>tensorflow, pytorch</td>\n",
       "      <td>74.760223</td>\n",
       "      <td>2</td>\n",
       "      <td>1</td>\n",
       "    </tr>\n",
       "    <tr>\n",
       "      <th>2</th>\n",
       "      <td>java, spring boot, hibernate</td>\n",
       "      <td>java, hibernate</td>\n",
       "      <td>70.710678</td>\n",
       "      <td>3</td>\n",
       "      <td>1</td>\n",
       "    </tr>\n",
       "  </tbody>\n",
       "</table>\n",
       "</div>"
      ],
      "text/plain": [
       "                               skills           skills_required  \\\n",
       "0       python, nlp, machine learning  python, machine learning   \n",
       "1  deep learning, tensorflow, pytorch       tensorflow, pytorch   \n",
       "2        java, spring boot, hibernate           java, hibernate   \n",
       "\n",
       "   skill_match_score  total_experience_years  experience_required_years  \n",
       "0          84.884949                       1                          1  \n",
       "1          74.760223                       2                          1  \n",
       "2          70.710678                       3                          1  "
      ]
     },
     "execution_count": 29,
     "metadata": {},
     "output_type": "execute_result"
    }
   ],
   "source": [
    "df"
   ]
  },
  {
   "cell_type": "code",
   "execution_count": 30,
   "metadata": {},
   "outputs": [],
   "source": [
    "df[\"total_experience_years\"] = [1, 1, 1]  # Example candidate experience\n",
    "df[\"experience_required_years\"] = [1, 1, 1]  # Required experience for the job\n"
   ]
  },
  {
   "cell_type": "code",
   "execution_count": 31,
   "metadata": {},
   "outputs": [],
   "source": [
    "df[\"experience_match_score\"] = (df[\"total_experience_years\"] / df[\"experience_required_years\"]) * 100\n",
    "df[\"experience_match_score\"] = df[\"experience_match_score\"].clip(0, 100)  # Max 100% rakhenge\n"
   ]
  },
  {
   "cell_type": "code",
   "execution_count": 32,
   "metadata": {},
   "outputs": [],
   "source": [
    "df[\"final_match_score\"] = (df[\"skill_match_score\"] * 0.7) + (df[\"experience_match_score\"] * 0.3)\n"
   ]
  },
  {
   "cell_type": "code",
   "execution_count": 33,
   "metadata": {},
   "outputs": [
    {
     "name": "stdout",
     "output_type": "stream",
     "text": [
      "                               skills           skills_required  \\\n",
      "0       python, nlp, machine learning  python, machine learning   \n",
      "1  deep learning, tensorflow, pytorch       tensorflow, pytorch   \n",
      "\n",
      "   skill_match_score  total_experience_years  experience_required_years  \\\n",
      "0          84.884949                       1                          1   \n",
      "1          74.760223                       1                          1   \n",
      "\n",
      "   experience_match_score  final_match_score  \n",
      "0                   100.0          89.419464  \n",
      "1                   100.0          82.332156  \n"
     ]
    }
   ],
   "source": [
    "df_filtered = df[df[\"final_match_score\"] >= 80]\n",
    "print(df_filtered)\n"
   ]
  },
  {
   "cell_type": "code",
   "execution_count": 34,
   "metadata": {},
   "outputs": [
    {
     "data": {
      "image/png": "[encoded data removed]",
      "text/plain": [
       "<Figure size 1000x500 with 1 Axes>"
      ]
     },
     "metadata": {},
     "output_type": "display_data"
    }
   ],
   "source": [
    "import matplotlib.pyplot as plt\n",
    "\n",
    "plt.figure(figsize=(10,5))\n",
    "plt.bar(df[\"skills\"], df[\"final_match_score\"], color=[\"blue\", \"green\", \"red\"])\n",
    "plt.xlabel(\"Candidates\")\n",
    "plt.ylabel(\"Final Match Score (%)\")\n",
    "plt.title(\"Candidate Matching Score\")\n",
    "plt.xticks(rotation=45)\n",
    "plt.show()\n"
   ]
  },
  {
   "cell_type": "code",
   "execution_count": 38,
   "metadata": {},
   "outputs": [],
   "source": [
    "# AI APIs\n",
    "import openai  # OpenAI ke models ke liye\n",
    "import google.generativeai as genai  # Google Gemini API ke liye\n",
    "\n",
    "# LangChain Components\n",
    "from langchain.chat_models import ChatOpenAI  \n",
    "from langchain.llms import OpenAI  \n",
    "from langchain_google_genai import ChatGoogleGenerativeAI\n",
    "from langchain.schema import SystemMessage, AIMessage, HumanMessage  \n",
    "\n",
    "# PDF Generation\n",
    "from reportlab.lib.pagesizes import letter  \n",
    "from reportlab.pdfgen import canvas  \n",
    "\n",
    "# Miscellaneous\n",
    "import os  # Environment variables ke liye\n",
    "import json  # JSON handling ke liye\n",
    "import time  # Execution timing ke liye\n"
   ]
  },
  {
   "cell_type": "code",
   "execution_count": 43,
   "metadata": {},
   "outputs": [],
   "source": [
    "from langchain_google_genai import ChatGoogleGenerativeAI\n",
    "\n",
    "\n",
    "# Google Gemini API Key Setup\n",
    "os.environ[\"GOOGLE_API_KEY\"] = \"Your_API_Key\"\n",
    "genai.configure(api_key=os.getenv(\"GOOGLE_API_KEY\"))\n",
    "\n",
    "# Gemini Model Initialize\n",
    "gemini_model = ChatGoogleGenerativeAI(model=\"gemini-1.5-flash\", google_api_key=os.getenv(\"GOOGLE_API_KEY\"))\n"
   ]
  },
  {
   "cell_type": "code",
   "execution_count": 45,
   "metadata": {},
   "outputs": [],
   "source": [
    "prompt_template = \"\"\"\n",
    "You are an AI-powered recruitment assistant. Your task is to recommend the best candidate based on user requirements. \n",
    "\n",
    "### **User Query:**\n",
    "{user_query}\n",
    "\n",
    "### **Available Candidates:**\n",
    "{candidates_data}\n",
    "\n",
    "### **Task:**\n",
    "- From the given list of candidates, find the best match based on experience, required skills, and final match score.\n",
    "- If a candidate meets the criteria, provide their **skills, experience, and match score**.\n",
    "- If no matching candidate is found, respond with **\"No suitable candidate found.\"**  \n",
    "- Keep the response **clear and structured**.\n",
    "\n",
    "### **Example Output Format:**\n",
    "**Best Candidate Found:**  \n",
    "- **Experience:** X Years  \n",
    "- **Skills:** Python, NLP, Machine Learning  \n",
    "- **Final Match Score:** XX.X%\n",
    "\"\"\"\n"
   ]
  },
  {
   "cell_type": "code",
   "execution_count": 46,
   "metadata": {},
   "outputs": [],
   "source": [
    "user_query = \"I need a candidate with 3+ years of experience and Python + Machine Learning skills.\"\n"
   ]
  },
  {
   "cell_type": "code",
   "execution_count": 47,
   "metadata": {},
   "outputs": [],
   "source": [
    "df_filtered = df[df[\"final_match_score\"] >= 80]\n"
   ]
  },
  {
   "cell_type": "code",
   "execution_count": 48,
   "metadata": {},
   "outputs": [
    {
     "name": "stdout",
     "output_type": "stream",
     "text": [
      "content='No suitable candidate found.\\n' additional_kwargs={} response_metadata={'prompt_feedback': {'block_reason': 0, 'safety_ratings': []}, 'finish_reason': 'STOP', 'safety_ratings': []} id='run-4eaa322a-422e-441a-9945-7c9fe019f58d-0' usage_metadata={'input_tokens': 397, 'output_tokens': 6, 'total_tokens': 403}\n"
     ]
    }
   ],
   "source": [
    "if not df_filtered.empty:\n",
    "    candidates_data = df_filtered.to_dict(orient=\"records\")  # Convert DataFrame to list of dictionaries\n",
    "    final_prompt = prompt_template.format(user_query=user_query, candidates_data=candidates_data)\n",
    "\n",
    "    # Gemini Model Call\n",
    "    response = gemini_model.invoke(final_prompt)\n",
    "\n",
    "    # Print Result\n",
    "    print(response)\n",
    "\n",
    "else:\n",
    "    print(\"No suitable candidate found.\")\n"
   ]
  },
  {
   "cell_type": "code",
   "execution_count": null,
   "metadata": {},
   "outputs": [],
   "source": []
  },
  {
   "cell_type": "code",
   "execution_count": 44,
   "metadata": {},
   "outputs": [
    {
     "name": "stdout",
     "output_type": "stream",
     "text": [
      "Based on the provided data, here's a summary of the candidate matching:\n",
      "\n",
      "**Which candidate is the best fit?**\n",
      "\n",
      "Candidate 1 is the best fit, with a final match score of 89.41, compared to Candidate 2's score of 82.33.\n",
      "\n",
      "**Strengths and Weaknesses of Each Candidate:**\n",
      "\n",
      "**Candidate 1:**\n",
      "\n",
      "* **Strengths:**  Excellent match in experience (100% match in both experience categories). Strong skills in Python, machine learning, TensorFlow, and PyTorch, reflected in a high skill match score (84.88%).  NLP skills are a bonus not explicitly required.\n",
      "* **Weaknesses:** While proficient in many required skills, the skill match score (84.88%) suggests a possible gap in depth of knowledge or practical application of some of the required skills compared to the ideal candidate.  The exact nature of this gap is not specified in the data.\n",
      "\n",
      "\n",
      "**Candidate 2:**\n",
      "\n",
      "* **Strengths:**  Excellent match in experience (100% match).  Proficient in TensorFlow and PyTorch (as indicated by the high experience match score).\n",
      "* **Weaknesses:** Lower overall skill match score (74.76%) compared to Candidate 1, indicating potential gaps in Python and machine learning skills.  The absence of NLP skills, while not a requirement, might be a disadvantage depending on the job's specifics.\n",
      "\n",
      "\n",
      "**Recommendations for the Employer:**\n",
      "\n",
      "* **Prioritize Candidate 1:**  Given the higher overall match score, Candidate 1 appears to be the stronger candidate.\n",
      "* **Investigate Skill Gaps:** While Candidate 1 is the preferred choice, the employer should delve deeper into the reasons behind the 84.88% skill match score.  Further interviewing or skill assessments may be necessary to determine the extent of any skill gaps and assess whether they are significant enough to affect performance.  This might involve asking targeted questions about specific projects involving Python, machine learning, TensorFlow, and PyTorch to evaluate their proficiency in these areas.\n",
      "* **Consider Project Needs:**  The absence of NLP skills in Candidate 2 might not be a deal-breaker if the job doesn't require it.  However, if NLP is a crucial part of the role, Candidate 1 is clearly the better choice.\n",
      "* **Clarify Skill Requirements:** The provided data doesn't explicitly define the weight given to different skills (e.g., Python vs. TensorFlow).  A more granular scoring system, specifying the importance of each skill, might provide a more nuanced comparison.\n",
      "\n",
      "\n",
      "In summary, Candidate 1 is recommended, but a more thorough evaluation of their skills is advised to ensure they meet the job's specific requirements.\n",
      "\n"
     ]
    }
   ],
   "source": [
    "import json\n",
    "\n",
    "# Define input data\n",
    "candidate_data = {\n",
    "    \"skills\": [\"python, nlp, machine learning\", \"deep learning, tensorflow, pytorch\"],\n",
    "    \"skills_required\": [\"python, machine learning\", \"tensorflow, pytorch\"],\n",
    "    \"skill_match_score\": [84.88, 74.76],\n",
    "    \"total_experience_years\": [1, 1],\n",
    "    \"experience_required_years\": [1, 1],\n",
    "    \"experience_match_score\": [100.0, 100.0],\n",
    "    \"final_match_score\": [89.41, 82.33]\n",
    "}\n",
    "\n",
    "# Convert to JSON\n",
    "candidate_json = json.dumps(candidate_data, indent=2)\n",
    "\n",
    "# Create prompt\n",
    "prompt = f\"\"\"\n",
    "Candidate & Job Matching Summary:\n",
    "\n",
    "Here is the candidate data:\n",
    "{candidate_json}\n",
    "\n",
    "Based on this data, provide a summary:\n",
    "- Which candidate is the best fit?\n",
    "- Strengths and weaknesses of each candidate?\n",
    "- Any recommendations for the employer?\n",
    "\"\"\"\n",
    "\n",
    "# Call Gemini Model\n",
    "response = gemini_model.invoke(prompt)\n",
    "\n",
    "# Print response\n",
    "print(response.content)\n"
   ]
  },
  {
   "cell_type": "code",
   "execution_count": 49,
   "metadata": {},
   "outputs": [
    {
     "name": "stdout",
     "output_type": "stream",
     "text": [
      "                               skills           skills_required  \\\n",
      "0       python, nlp, machine learning  python, machine learning   \n",
      "1  deep learning, tensorflow, pytorch       tensorflow, pytorch   \n",
      "\n",
      "   skill_match_score  total_experience_years  experience_required_years  \\\n",
      "0          84.884949                       1                          1   \n",
      "1          74.760223                       1                          1   \n",
      "\n",
      "   experience_match_score  final_match_score  \n",
      "0                   100.0          89.419464  \n",
      "1                   100.0          82.332156  \n"
     ]
    }
   ],
   "source": [
    "print(df_filtered)\n"
   ]
  },
  {
   "cell_type": "code",
   "execution_count": 50,
   "metadata": {},
   "outputs": [
    {
     "name": "stdout",
     "output_type": "stream",
     "text": [
      "[{'skills': 'python, nlp, machine learning', 'skills_required': 'python, machine learning', 'skill_match_score': 84.884948762531, 'total_experience_years': 1, 'experience_required_years': 1, 'experience_match_score': 100.0, 'final_match_score': 89.4194641337717}, {'skills': 'deep learning, tensorflow, pytorch', 'skills_required': 'tensorflow, pytorch', 'skill_match_score': 74.7602230277905, 'total_experience_years': 1, 'experience_required_years': 1, 'experience_match_score': 100.0, 'final_match_score': 82.33215611945334}]\n"
     ]
    }
   ],
   "source": [
    "print(df_filtered.to_dict(orient=\"records\"))\n"
   ]
  },
  {
   "cell_type": "code",
   "execution_count": 52,
   "metadata": {},
   "outputs": [],
   "source": [
    "# Prompt Template\n",
    "prompt_template = \"\"\"\n",
    "You are an AI recruiter. Your job is to find the best candidate based on the user's hiring requirements.\n",
    "\n",
    "### **User's Requirement:**  \n",
    "{user_query}\n",
    "\n",
    "### **Available Candidates:**  \n",
    "{candidates_data}\n",
    "\n",
    "### **Selection Criteria:**  \n",
    "- **Find the best match** based on **experience & skills**.  \n",
    "- Give **clear and structured output** in table format.  \n",
    "- If no candidate meets the criteria, respond with **\"No suitable candidate found.\"**\n",
    "\n",
    "### **Example Response Format:**\n",
    "**Best Candidate Found:**  \n",
    "| Experience | Skills | Final Match Score |  \n",
    "|------------|--------|------------------|  \n",
    "| X Years   | Python, NLP, ML | XX.X% |  \n",
    "\n",
    "Now, find the best match and respond accordingly.\n",
    "\"\"\"\n"
   ]
  },
  {
   "cell_type": "code",
   "execution_count": 54,
   "metadata": {},
   "outputs": [],
   "source": [
    "# User Query (Jo input aayega)\n",
    "user_query = \"I need a candidate with at least 1 year of experience in java and springboot\""
   ]
  },
  {
   "cell_type": "code",
   "execution_count": 55,
   "metadata": {},
   "outputs": [
    {
     "name": "stdout",
     "output_type": "stream",
     "text": [
      "No suitable candidate found.\n",
      "\n"
     ]
    }
   ],
   "source": [
    "# **Check if Filtered Data is Available**\n",
    "if not df_filtered.empty:\n",
    "    candidates_data = df_filtered.to_dict(orient=\"records\")  # Convert filtered DataFrame to Dictionary\n",
    "    final_prompt = prompt_template.format(user_query=user_query, candidates_data=candidates_data)\n",
    "\n",
    "    # **Gemini Model Call**\n",
    "    response = gemini_model.invoke(final_prompt)\n",
    "\n",
    "    # **Print the Result**\n",
    "    print(response.content)\n",
    "\n",
    "else:\n",
    "    print(\"No suitable candidate found.\")\n"
   ]
  },
  {
   "cell_type": "code",
   "execution_count": null,
   "metadata": {},
   "outputs": [],
   "source": []
  }
 ],
 "metadata": {
  "kernelspec": {
   "display_name": "Python 3",
   "language": "python",
   "name": "python3"
  },
  "language_info": {
   "codemirror_mode": {
    "name": "ipython",
    "version": 3
   },
   "file_extension": ".py",
   "mimetype": "text/x-python",
   "name": "python",
   "nbconvert_exporter": "python",
   "pygments_lexer": "ipython3",
   "version": "3.12.6"
  }
 },
 "nbformat": 4,
 "nbformat_minor": 2
}
